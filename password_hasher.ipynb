{
 "cells": [
  {
   "cell_type": "code",
   "execution_count": 1,
   "metadata": {},
   "outputs": [
    {
     "name": "stdout",
     "output_type": "stream",
     "text": [
      "Original: admin123 -> Hashed: $2b$12$Y.RocvdHLrE8ti8NqWPTtO.RRwLo1DPcxW7JNy3F7NFjrioJVAgsi\n",
      "Original: manager123 -> Hashed: $2b$12$n6A/67XqsEAMsxrel3cphepu0NIqUsY.vN6782N5kIB/7WE5gjpUi\n",
      "Original: user123 -> Hashed: $2b$12$9yOaDRXVYT/.PSnuElboO.lmtFgHCMy1nTIATAb9sVaT515xkcIp.\n"
     ]
    }
   ],
   "source": [
    "import bcrypt\n",
    "\n",
    "# List of passwords to hash\n",
    "passwords = [\"admin123\", \"manager123\", \"user123\"]\n",
    "\n",
    "# Generate and print hashed passwords\n",
    "for password in passwords:\n",
    "    hashed_password = bcrypt.hashpw(password.encode(), bcrypt.gensalt()).decode()\n",
    "    print(f\"Original: {password} -> Hashed: {hashed_password}\")\n"
   ]
  }
 ],
 "metadata": {
  "kernelspec": {
   "display_name": "Python 3",
   "language": "python",
   "name": "python3"
  },
  "language_info": {
   "codemirror_mode": {
    "name": "ipython",
    "version": 3
   },
   "file_extension": ".py",
   "mimetype": "text/x-python",
   "name": "python",
   "nbconvert_exporter": "python",
   "pygments_lexer": "ipython3",
   "version": "3.13.0"
  }
 },
 "nbformat": 4,
 "nbformat_minor": 2
}
